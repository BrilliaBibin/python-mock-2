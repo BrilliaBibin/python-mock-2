{
 "cells": [
  {
   "cell_type": "markdown",
   "id": "4f645267",
   "metadata": {},
   "source": [
    "You are given two non-empty linked lists representing two non-negative integers. The digits are stored in reverse order, and each of their nodes contains a single digit. Add the two numbers and return the sum as a linked list.\n",
    "\n",
    "You may assume the two numbers do not contain any leading zero, except the number 0 itself.\n",
    "\n",
    "\n",
    "Example 1:\n",
    "\n",
    "Input: l1 = [2,4,3], l2 = [5,6,4] Output: [7,0,8] Explanation: 342 + 465 = 807.\n",
    "\n",
    "Example 2:\n",
    "\n",
    "Input: l1 = [0], l2 = [0] Output: [0]\n",
    "\n",
    "Example 3:\n",
    "\n",
    "Input: l1 = [9,9,9,9,9,9,9], l2 = [9,9,9,9] Output: [8,9,9,9,0,0,0,1]\n",
    "\n",
    " \n",
    "\n",
    "Constraints:\n",
    "\n",
    "The number of nodes in each linked list is in the range [1, 100].\n",
    "0 <= Node.val <= 9 It is guaranteed that the list represents a number that does not have leading zeros.\n",
    "\n"
   ]
  },
  {
   "cell_type": "code",
   "execution_count": 5,
   "id": "cfcd62f5",
   "metadata": {},
   "outputs": [],
   "source": [
    "class ListNode:\n",
    "    def __init__(self, val=0, next=None):\n",
    "        self.val = val\n",
    "        self.next = next\n",
    "def addTwoNumbers(l1: ListNode, l2: ListNode) -> ListNode:\n",
    "    # Head of the new linked list - this is the head of the resultant list\n",
    "    head = None\n",
    "    # Reference of head which is null at this point\n",
    "    temp = None\n",
    "    # Carry\n",
    "    carry = 0\n",
    "    # Loop for the two lists\n",
    "    while l1 is not None or l2 is not None:\n",
    "        # At the start of each iteration, we should add carry from the last iteration\n",
    "        sum_value = carry\n",
    "        # Since the lengths of the lists may be unequal, we are checking if the\n",
    "        # current node is null for one of the lists\n",
    "        if l1 is not None:\n",
    "            sum_value += l1.val\n",
    "            l1 = l1.next\n",
    "        if l2 is not None:\n",
    "            sum_value += l2.val\n",
    "            l2 = l2.next\n",
    "        # At this point, we will add the total sum_value % 10 to the new node\n",
    "        # in the resultant list\n",
    "        node = ListNode(sum_value % 10)\n",
    "        # Carry to be added in the next iteration\n",
    "        carry = sum_value // 10\n",
    "        # If this is the first node or head\n",
    "        if temp is None:\n",
    "            temp = head = node\n",
    "        # for any other node\n",
    "        else:\n",
    "            temp.next = node\n",
    "            temp = temp.next\n",
    "    # After the last iteration, we will check if there is carry left\n",
    "    # If it's left then we will create a new node and add it\n",
    "    if carry > 0:\n",
    "        temp.next = ListNode(carry)\n",
    "    return head"
   ]
  },
  {
   "cell_type": "code",
   "execution_count": 8,
   "id": "dce6c302",
   "metadata": {},
   "outputs": [
    {
     "name": "stdout",
     "output_type": "stream",
     "text": [
      "7 0 8 "
     ]
    }
   ],
   "source": [
    "l1 = ListNode(2)\n",
    "l1.next = ListNode(4)\n",
    "l1.next.next = ListNode(3)\n",
    "\n",
    "l2 = ListNode(5)\n",
    "l2.next = ListNode(6)\n",
    "l2.next.next = ListNode(4)\n",
    "\n",
    "result = addTwoNumbers(l1, l2)\n",
    "\n",
    "while result:\n",
    "    print(result.val, end=' ')\n",
    "    result = result.next\n"
   ]
  },
  {
   "cell_type": "code",
   "execution_count": 19,
   "id": "9a281c3d",
   "metadata": {},
   "outputs": [
    {
     "name": "stdout",
     "output_type": "stream",
     "text": [
      "0 "
     ]
    }
   ],
   "source": [
    "l1 = ListNode(0)\n",
    "\n",
    "l2 = ListNode(0)\n",
    "\n",
    "result = addTwoNumbers(l1, l2)\n",
    "\n",
    "while result:\n",
    "    print(result.val, end=' ')\n",
    "    result = result.next\n"
   ]
  },
  {
   "cell_type": "code",
   "execution_count": 20,
   "id": "ff772450",
   "metadata": {},
   "outputs": [
    {
     "name": "stdout",
     "output_type": "stream",
     "text": [
      "8 9 9 9 0 0 0 1 "
     ]
    }
   ],
   "source": [
    "l1 = ListNode(9)\n",
    "l1.next = ListNode(9)\n",
    "l1.next.next = ListNode(9)\n",
    "l1.next.next.next = ListNode(9)\n",
    "l1.next.next.next.next = ListNode(9)\n",
    "l1.next.next.next.next.next = ListNode(9)\n",
    "l1.next.next.next.next.next.next = ListNode(9)\n",
    "\n",
    "l2 = ListNode(9)\n",
    "l2.next = ListNode(9)\n",
    "l2.next.next = ListNode(9)\n",
    "l2.next.next.next = ListNode(9)\n",
    "\n",
    "result = addTwoNumbers(l1, l2)\n",
    "\n",
    "while result:\n",
    "    print(result.val, end=' ')\n",
    "    result = result.next\n"
   ]
  }
 ],
 "metadata": {
  "kernelspec": {
   "display_name": "Python 3 (ipykernel)",
   "language": "python",
   "name": "python3"
  },
  "language_info": {
   "codemirror_mode": {
    "name": "ipython",
    "version": 3
   },
   "file_extension": ".py",
   "mimetype": "text/x-python",
   "name": "python",
   "nbconvert_exporter": "python",
   "pygments_lexer": "ipython3",
   "version": "3.9.12"
  }
 },
 "nbformat": 4,
 "nbformat_minor": 5
}
